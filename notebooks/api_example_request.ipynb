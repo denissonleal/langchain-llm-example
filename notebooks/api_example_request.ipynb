{
 "cells": [
  {
   "cell_type": "code",
   "execution_count": 1,
   "metadata": {},
   "outputs": [],
   "source": [
    "import os, sys\n",
    "from langchain_nvidia_ai_endpoints import ChatNVIDIA\n",
    "from langchain_core.prompts import ChatPromptTemplate\n",
    "from langchain_core.output_parsers import StrOutputParser\n",
    "from pymilvus import MilvusClient\n",
    "\n",
    "sys.path.append(os.path.abspath('../'))\n",
    "\n",
    "from app.config import config"
   ]
  },
  {
   "cell_type": "code",
   "execution_count": 2,
   "metadata": {},
   "outputs": [],
   "source": [
    "os.environ['NVIDIA_API_KEY'] = config['llm_api_key']\n",
    "\n",
    "model = ChatNVIDIA(model=config['llm_api_model'])"
   ]
  },
  {
   "cell_type": "code",
   "execution_count": 4,
   "metadata": {},
   "outputs": [
    {
     "name": "stderr",
     "output_type": "stream",
     "text": [
      "/home/chapolin/aio/langchain-llm-example/.venv/lib/python3.12/site-packages/sentence_transformers/cross_encoder/CrossEncoder.py:11: TqdmWarning: IProgress not found. Please update jupyter and ipywidgets. See https://ipywidgets.readthedocs.io/en/stable/user_install.html\n",
      "  from tqdm.autonotebook import tqdm, trange\n",
      "No sentence-transformers model found with name neuralmind/bert-base-portuguese-cased. Creating a new one with mean pooling.\n",
      "/home/chapolin/aio/langchain-llm-example/.venv/lib/python3.12/site-packages/transformers/tokenization_utils_base.py:1601: FutureWarning: `clean_up_tokenization_spaces` was not set. It will be set to `True` by default. This behavior will be depracted in transformers v4.45, and will be then set to `False` by default. For more details check this issue: https://github.com/huggingface/transformers/issues/31884\n",
      "  warnings.warn(\n"
     ]
    }
   ],
   "source": [
    "from langchain_huggingface import HuggingFaceEmbeddings\n",
    "\n",
    "embeddings = HuggingFaceEmbeddings(model_name=config['embeddings_model'])"
   ]
  },
  {
   "cell_type": "code",
   "execution_count": 3,
   "metadata": {},
   "outputs": [],
   "source": [
    "client = MilvusClient(\"../storage/milvus.db\")"
   ]
  },
  {
   "cell_type": "code",
   "execution_count": 20,
   "metadata": {},
   "outputs": [],
   "source": [
    "# query = 'qual o motivo da suspensao dos servicos eletronicos?'\n",
    "query = 'onde fica a sede da oab rs?'"
   ]
  },
  {
   "cell_type": "code",
   "execution_count": 21,
   "metadata": {},
   "outputs": [
    {
     "data": {
      "text/plain": [
       "data: [\"[{'id': 131, 'distance': 0.6112189888954163, 'entity': {'text': '2020. Disponível em: https://www.editorajc.com.br/oab-efetiva-espacos-da-mulher-advogada/.\\\\nAcesso em: 01 abr. 2021', 'subject': 'file_611c23465ce9f.pdf'}}, {'id': 30, 'distance': 0.6056042313575745, 'entity': {'text': '3. Cadastrar em seus contatos os nossos endereços eletrônicos: csiparecer@oabrs.org.br,\\\\ncsisolenidade@oabrs.org.br e coordcsi@oabrs.org.br. Por meio deles é que você\\\\nreceberá as comunicações, diligências e convocações referentes ao presente\\\\nrequerimento', 'subject': '2_16_5cdf15cd2d8c8.pdf'}}, {'id': 141, 'distance': 0.5951207876205444, 'entity': {'text': 'https://www.oabrs.org.br/noticias/86-anos/26988. Acesso em: 06 abr. 2021', 'subject': 'file_611c23465ce9f.pdf'}}, {'id': 137, 'distance': 0.5945316553115845, 'entity': {'text': 'ORDEM DOS ADVOGADOS DO BRASIL DE GOIÁS. CF Valentina Jungmann apresenta\\\\nprojeto que estabelece paridade entre homens e mulheres nas eleições da OAB. Disponível em:\\\\nhttps://www.oabgo.org.br/oab/noticias/reivindicacao/cf-valentina-jungmann-apresentaprojeto-que-estabelece-paridade-entre-homens-e-mulheres-nas-eleicoes-da-oab/. Acesso em\\\\n13 abr. 2021', 'subject': 'file_611c23465ce9f.pdf'}}, {'id': 138, 'distance': 0.5858463644981384, 'entity': {'text': 'ORDEM DOS ADVOGADOS DO BRASIL DO RIO GRANDE DO SUL. Artigo do\\\\npresidente da OAB/RS publicado no Estadão: Não apenas no Carnaval. Disponível em:\\\\nhttps://www.oabrs.org.br/noticias/artigo-presidente-oabrs-publicado-no-estadao--nao-apenascarnaval/41305. Acesso em: 13 abr. 2021', 'subject': 'file_611c23465ce9f.pdf'}}, {'id': 142, 'distance': 0.580230176448822, 'entity': {'text': 'OYAMA, Érico; HELFSTEIN, Lucas. Mulheres representam 64% dos inscritos na OAB\\\\ncom até 25 anos. 2020. Disponível em: https://www.jota.info/carreira/mulheres-inscritos-oab13012020. Acesso em: 01 abr. 2021', 'subject': 'file_611c23465ce9f.pdf'}}, {'id': 114, 'distance': 0.5761565566062927, 'entity': {'text': 'Disponível em: https://atlassocioeconomico.rs.gov.br/populacao-por-sexo. Acesso em: 24 nov.\\\\n2020', 'subject': 'file_611c23465ce9f.pdf'}}, {'id': 43, 'distance': 0.5717918276786804, 'entity': {'text': '3.\\\\n\\\\nInserção de meu endereço profissional no Cadastro Nacional de Advogados nos sites\\\\nwww.oab.org.br e www.oabrs.org.br.\\\\n\\\\n4', 'subject': '2_16_5cdf15cd2d8c8.pdf'}}, {'id': 151, 'distance': 0.5684963464736938, 'entity': {'text': 'SECCHI, Leonardo et al. Mandatos coletivos e compartilhados: inovação na representação\\\\nlegislativa no brasil e no mundo. {S.l.}: Pvblica - Instituto de Políticas Públicas, 2019. 12 p', 'subject': 'file_611c23465ce9f.pdf'}}, {'id': 147, 'distance': 0.5680121779441833, 'entity': {'text': '2020. Disponível em: https://www.brasildefators.com.br/2020/10/26/em-alta-no-paiscandidaturas-coletivas-prometem-radicalizar-democracia-e-diversidade. Acesso em 2 dez', 'subject': 'file_611c23465ce9f.pdf'}}]\"] "
      ]
     },
     "execution_count": 21,
     "metadata": {},
     "output_type": "execute_result"
    }
   ],
   "source": [
    "res = client.search(\n",
    "  collection_name=\"oab_documents\",\n",
    "  data=[embeddings.embed_query(query)],\n",
    "#   filter=\"subject == 'history'\",\n",
    "  limit=10,\n",
    "  output_fields=[\"text\", \"subject\"],\n",
    ")\n",
    "\n",
    "res"
   ]
  },
  {
   "cell_type": "code",
   "execution_count": 28,
   "metadata": {},
   "outputs": [
    {
     "data": {
      "text/plain": [
       "ChatPromptTemplate(input_variables=['query'], messages=[SystemMessagePromptTemplate(prompt=PromptTemplate(input_variables=[], template='Com base nas informacoes abaixo, responda a pergunta do usuario de maneira formal e sucinta')), SystemMessagePromptTemplate(prompt=PromptTemplate(input_variables=[], template='2020. Disponível em: https://www.editorajc.com.br/oab-efetiva-espacos-da-mulher-advogada/.\\nAcesso em: 01 abr. 2021')), SystemMessagePromptTemplate(prompt=PromptTemplate(input_variables=[], template='3. Cadastrar em seus contatos os nossos endereços eletrônicos: csiparecer@oabrs.org.br,\\ncsisolenidade@oabrs.org.br e coordcsi@oabrs.org.br. Por meio deles é que você\\nreceberá as comunicações, diligências e convocações referentes ao presente\\nrequerimento')), SystemMessagePromptTemplate(prompt=PromptTemplate(input_variables=[], template='https://www.oabrs.org.br/noticias/86-anos/26988. Acesso em: 06 abr. 2021')), SystemMessagePromptTemplate(prompt=PromptTemplate(input_variables=[], template='ORDEM DOS ADVOGADOS DO BRASIL DE GOIÁS. CF Valentina Jungmann apresenta\\nprojeto que estabelece paridade entre homens e mulheres nas eleições da OAB. Disponível em:\\nhttps://www.oabgo.org.br/oab/noticias/reivindicacao/cf-valentina-jungmann-apresentaprojeto-que-estabelece-paridade-entre-homens-e-mulheres-nas-eleicoes-da-oab/. Acesso em\\n13 abr. 2021')), SystemMessagePromptTemplate(prompt=PromptTemplate(input_variables=[], template='ORDEM DOS ADVOGADOS DO BRASIL DO RIO GRANDE DO SUL. Artigo do\\npresidente da OAB/RS publicado no Estadão: Não apenas no Carnaval. Disponível em:\\nhttps://www.oabrs.org.br/noticias/artigo-presidente-oabrs-publicado-no-estadao--nao-apenascarnaval/41305. Acesso em: 13 abr. 2021')), SystemMessagePromptTemplate(prompt=PromptTemplate(input_variables=[], template='OYAMA, Érico; HELFSTEIN, Lucas. Mulheres representam 64% dos inscritos na OAB\\ncom até 25 anos. 2020. Disponível em: https://www.jota.info/carreira/mulheres-inscritos-oab13012020. Acesso em: 01 abr. 2021')), SystemMessagePromptTemplate(prompt=PromptTemplate(input_variables=[], template='Disponível em: https://atlassocioeconomico.rs.gov.br/populacao-por-sexo. Acesso em: 24 nov.\\n2020')), SystemMessagePromptTemplate(prompt=PromptTemplate(input_variables=[], template='3.\\n\\nInserção de meu endereço profissional no Cadastro Nacional de Advogados nos sites\\nwww.oab.org.br e www.oabrs.org.br.\\n\\n4')), SystemMessagePromptTemplate(prompt=PromptTemplate(input_variables=[], template='2020. Disponível em: https://www.brasildefators.com.br/2020/10/26/em-alta-no-paiscandidaturas-coletivas-prometem-radicalizar-democracia-e-diversidade. Acesso em 2 dez')), HumanMessagePromptTemplate(prompt=PromptTemplate(input_variables=['query'], template='{query}'))])"
      ]
     },
     "execution_count": 28,
     "metadata": {},
     "output_type": "execute_result"
    }
   ],
   "source": [
    "prompt_template = ChatPromptTemplate.from_messages([\n",
    "    (\"system\", \"Com base nas informacoes abaixo, responda a pergunta do usuario de maneira formal e sucinta\"),\n",
    "    (\"system\", res[0][0]['entity']['text']),\n",
    "    (\"system\", res[0][1]['entity']['text']),\n",
    "    (\"system\", res[0][2]['entity']['text']),\n",
    "    (\"system\", res[0][3]['entity']['text']),\n",
    "    (\"system\", res[0][4]['entity']['text']),\n",
    "    (\"system\", res[0][5]['entity']['text']),\n",
    "    (\"system\", res[0][6]['entity']['text']),\n",
    "    (\"system\", res[0][7]['entity']['text']),\n",
    "    # (\"system\", res[0][8]['entity']['text']),\n",
    "    (\"system\", res[0][9]['entity']['text']),\n",
    "    (\"user\", \"{query}\")\n",
    "])\n",
    "\n",
    "prompt_template\n",
    "# res[0][0]['entity']['text']"
   ]
  },
  {
   "cell_type": "code",
   "execution_count": 14,
   "metadata": {},
   "outputs": [],
   "source": [
    "parser = StrOutputParser()"
   ]
  },
  {
   "cell_type": "code",
   "execution_count": 29,
   "metadata": {},
   "outputs": [],
   "source": [
    "chain = prompt_template | model | parser"
   ]
  },
  {
   "cell_type": "code",
   "execution_count": 31,
   "metadata": {},
   "outputs": [
    {
     "name": "stdout",
     "output_type": "stream",
     "text": [
      "A sede da Ordem dos Advogados do Brasil do Rio Grande do Sul (OAB/RS) fica em Porto Alegre, no endereço: Rua Veterinário João Cabral, 95, Bairro Moinhos de Vento, CEP 90150-120.\n"
     ]
    }
   ],
   "source": [
    "output = chain.invoke({\"query\": query})\n",
    "\n",
    "print(output)"
   ]
  }
 ],
 "metadata": {
  "kernelspec": {
   "display_name": ".venv",
   "language": "python",
   "name": "python3"
  },
  "language_info": {
   "codemirror_mode": {
    "name": "ipython",
    "version": 3
   },
   "file_extension": ".py",
   "mimetype": "text/x-python",
   "name": "python",
   "nbconvert_exporter": "python",
   "pygments_lexer": "ipython3",
   "version": "3.12.3"
  }
 },
 "nbformat": 4,
 "nbformat_minor": 2
}
