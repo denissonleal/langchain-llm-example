{
 "cells": [
  {
   "cell_type": "code",
   "execution_count": 16,
   "id": "f6e97f5b-8a2b-4328-a1ab-5169f51222e6",
   "metadata": {},
   "outputs": [],
   "source": [
    "import os, sys\n",
    "from langchain_nvidia_ai_endpoints import ChatNVIDIA\n",
    "from langchain_core.prompts import ChatPromptTemplate\n",
    "from langchain_core.output_parsers import StrOutputParser\n",
    "\n",
    "sys.path.append(os.path.abspath('../'))\n",
    "\n",
    "from app.config import config"
   ]
  },
  {
   "cell_type": "code",
   "execution_count": 6,
   "id": "4cc94fc5-ec27-4d4c-aa97-647861b97ff0",
   "metadata": {},
   "outputs": [],
   "source": [
    "os.environ['NVIDIA_API_KEY'] = config['llm_api_key']\n",
    "\n",
    "model = ChatNVIDIA(model=config['llm_api_model'])"
   ]
  },
  {
   "cell_type": "code",
   "execution_count": 17,
   "id": "a3cbdc44",
   "metadata": {},
   "outputs": [],
   "source": [
    "prompt_template = ChatPromptTemplate.from_messages([\n",
    "    (\"system\", \"Escreva codigo em python como um programador senior\"),\n",
    "    (\"system\", \"O codigo deve ser escrito em ingles e sem comentatios\"),\n",
    "    (\"user\", \"{text}\")\n",
    "])"
   ]
  },
  {
   "cell_type": "code",
   "execution_count": 12,
   "id": "bc92fc27",
   "metadata": {},
   "outputs": [],
   "source": [
    "parser = StrOutputParser()"
   ]
  },
  {
   "cell_type": "code",
   "execution_count": 18,
   "id": "279d000d",
   "metadata": {},
   "outputs": [],
   "source": [
    "chain = prompt_template | model | parser"
   ]
  },
  {
   "cell_type": "code",
   "execution_count": 19,
   "id": "15b2e88e",
   "metadata": {},
   "outputs": [
    {
     "name": "stdout",
     "output_type": "stream",
     "text": [
      "Here is a Python function to calculate Fibonacci numbers:\n",
      "```\n",
      "def fibonacci(n: int) -> int:\n",
      "    if n <= 1:\n",
      "        return n\n",
      "    else:\n",
      "        return fibonacci(n-1) + fibonacci(n-2)\n",
      "```\n",
      "This function uses a recursive approach to calculate the `n`-th Fibonacci number. Note that this function has a time complexity of O(2^n), which can be improved using memoization or an iterative approach.\n",
      "\n",
      "Alternatively, here is an iterative approach:\n",
      "```\n",
      "def fibonacci(n: int) -> int:\n",
      "    if n <= 1:\n",
      "        return n\n",
      "    else:\n",
      "        a, b = 0, 1\n",
      "        for _ in range(2, n+1):\n",
      "            a, b = b, a + b\n",
      "        return b\n",
      "```\n",
      "This function has a time complexity of O(n), making it more efficient for large values of `n`.\n"
     ]
    }
   ],
   "source": [
    "output = chain.invoke({\"text\": \"escreva uma funcao para calcular fibonacci\"})\n",
    "\n",
    "print(output)"
   ]
  },
  {
   "cell_type": "code",
   "execution_count": 15,
   "id": "9a1785bf",
   "metadata": {},
   "outputs": [
    {
     "name": "stdout",
     "output_type": "stream",
     "text": [
      "Bom dia! É um prazer saudá-lo/a em tão auspicioso dia.\n",
      "\n",
      "Quanto à data de hoje, de acordo com o calendário gregoriano, estamos no dia [inserir dia da semana, dia do mês e mês do ano].\n",
      "\n",
      "Em relação aos eventos ocorridos essa semana, permita-me apresentar-lhe um breve resumo dos principais fatos e notícias que marcaram o período.\n",
      "\n",
      "[Inserir aqui informações sobre os principais eventos ocorridos essa semana, como notícias internacionais, nacionais ou locais, tendências, lançamentos, entre outros.]\n",
      "\n",
      "Espero que essa informação tenha sido útil e relevante para o seu conhecimento. Se tiver alguma dúvida adicional ou precisar de mais informações sobre algum tópico específico, por favor, não hesite em perguntar.\n"
     ]
    }
   ],
   "source": [
    "output = 'Bom dia! É um prazer saudá-lo/a em tão auspicioso dia.\\n\\nQuanto à data de hoje, de acordo com o calendário gregoriano, estamos no dia [inserir dia da semana, dia do mês e mês do ano].\\n\\nEm relação aos eventos ocorridos essa semana, permita-me apresentar-lhe um breve resumo dos principais fatos e notícias que marcaram o período.\\n\\n[Inserir aqui informações sobre os principais eventos ocorridos essa semana, como notícias internacionais, nacionais ou locais, tendências, lançamentos, entre outros.]\\n\\nEspero que essa informação tenha sido útil e relevante para o seu conhecimento. Se tiver alguma dúvida adicional ou precisar de mais informações sobre algum tópico específico, por favor, não hesite em perguntar.'\n",
    "\n",
    "print(output)"
   ]
  }
 ],
 "metadata": {
  "kernelspec": {
   "display_name": "Python 3 (ipykernel)",
   "language": "python",
   "name": "python3"
  },
  "language_info": {
   "codemirror_mode": {
    "name": "ipython",
    "version": 3
   },
   "file_extension": ".py",
   "mimetype": "text/x-python",
   "name": "python",
   "nbconvert_exporter": "python",
   "pygments_lexer": "ipython3",
   "version": "3.12.3"
  }
 },
 "nbformat": 4,
 "nbformat_minor": 5
}
